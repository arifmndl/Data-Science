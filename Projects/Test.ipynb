{
 "cells": [
  {
   "cell_type": "code",
   "execution_count": 4,
   "id": "3c6b9b24",
   "metadata": {},
   "outputs": [
    {
     "name": "stdout",
     "output_type": "stream",
     "text": [
      "Who is the GOAT 🐐 ?\n",
      "One and only Lionel Messi!!\n",
      "What is his DOB?\n",
      "24\n",
      "June 1987\n"
     ]
    }
   ],
   "source": [
    "print(\"Who is the GOAT 🐐 ?\")\n",
    "print(\"One and only Lionel Messi!!\")\n",
    "print(\"What is his DOB?\")\n",
    "print(6*4) \n",
    "print(\"June 1987\")"
   ]
  },
  {
   "cell_type": "code",
   "execution_count": null,
   "id": "d86438cd",
   "metadata": {},
   "outputs": [],
   "source": []
  }
 ],
 "metadata": {
  "kernelspec": {
   "display_name": "Python 3 (ipykernel)",
   "language": "python",
   "name": "python3"
  },
  "language_info": {
   "codemirror_mode": {
    "name": "ipython",
    "version": 3
   },
   "file_extension": ".py",
   "mimetype": "text/x-python",
   "name": "python",
   "nbconvert_exporter": "python",
   "pygments_lexer": "ipython3",
   "version": "3.9.13"
  }
 },
 "nbformat": 4,
 "nbformat_minor": 5
}
